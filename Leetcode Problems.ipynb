{
 "cells": [
  {
   "cell_type": "markdown",
   "metadata": {},
   "source": [
    "Problem 01:\n",
    "\n",
    "Defanging IP address\n",
    "\n",
    "\n",
    "Given a valid (IPv4) IP address, return a defanged version of that IP address.\n",
    "\n",
    "A defanged IP address replaces every period \".\" with \"[.]\".\n",
    " \n",
    "\n",
    "Example 1:\n",
    "\n",
    "Input: address = \"1.1.1.1\"\n",
    "Output: \"1[.]1[.]1[.]1\"\n",
    "\n",
    "Example 2:\n",
    "\n",
    "Input: address = \"255.100.50.0\"\n",
    "Output: \"255[.]100[.]50[.]0\""
   ]
  },
  {
   "cell_type": "code",
   "execution_count": 24,
   "metadata": {},
   "outputs": [],
   "source": [
    "    def defangIPaddr (address):\n",
    "        \n",
    "        return address.replace(\".\", \"[.]\")"
   ]
  },
  {
   "cell_type": "code",
   "execution_count": 31,
   "metadata": {},
   "outputs": [
    {
     "name": "stdout",
     "output_type": "stream",
     "text": [
      "1[.]1[.]1[.]1\n",
      "255[.]100[.]50[.]0\n"
     ]
    }
   ],
   "source": [
    "example_1 = defangIPaddr(\"1.1.1.1\")\n",
    "print(example_1)\n",
    "\n",
    "example_2 = defangIPaddr(\"255.100.50.0\")\n",
    "print(example_2)\n"
   ]
  },
  {
   "cell_type": "markdown",
   "metadata": {},
   "source": [
    "Problem 02: \n",
    "\n",
    "Goal Parser Interpretation\n",
    "\n",
    "You own a Goal Parser that can interpret a string command. The command consists of an alphabet of \"G\", \"()\" and/or \"(al)\" in some order. The Goal Parser will interpret \"G\" as the string \"G\", \"()\" as the string \"o\", and \"(al)\" as the string \"al\". The interpreted strings are then concatenated in the original order.\n",
    "\n",
    "Given the string command, return the Goal Parser's interpretation of command.\n",
    "\n",
    "Example 1:\n",
    "Input: command = \"G()(al)\"\n",
    "Output: \"Goal\" Explanation: The Goal Parser interprets the command as follows: G -> G () -> o (al) -> al The final concatenated result is \"Goal\".\n",
    "\n",
    "Example 2:\n",
    "Input: command = \"G()()()()(al)\"\n",
    "Output: \"Gooooal\"\n",
    "\n",
    "Example 3:\n",
    "Input: command = \"(al)G(al)()()G\"\n",
    "Output: \"alGalooG\""
   ]
  },
  {
   "cell_type": "code",
   "execution_count": 36,
   "metadata": {},
   "outputs": [],
   "source": [
    "def interpret (command):\n",
    "    \n",
    "    command = command.replace (\"()\", \"o\")\n",
    "    command = command.replace (\"(al)\", \"al\")\n",
    "    \n",
    "    return command\n",
    "\n",
    "# Here, string inside command parameter replaced by command.replace and return value of command"
   ]
  },
  {
   "cell_type": "code",
   "execution_count": 33,
   "metadata": {},
   "outputs": [
    {
     "name": "stdout",
     "output_type": "stream",
     "text": [
      "Goal\n"
     ]
    }
   ],
   "source": [
    "example_1 = interpret (\"G()(al)\")\n",
    "print (example_1)"
   ]
  },
  {
   "cell_type": "code",
   "execution_count": 34,
   "metadata": {},
   "outputs": [
    {
     "name": "stdout",
     "output_type": "stream",
     "text": [
      "Gooooal\n"
     ]
    }
   ],
   "source": [
    "example_2 = interpret (\"G()()()()(al)\")\n",
    "print (example_2)"
   ]
  },
  {
   "cell_type": "code",
   "execution_count": 35,
   "metadata": {
    "scrolled": true
   },
   "outputs": [
    {
     "name": "stdout",
     "output_type": "stream",
     "text": [
      "alGalooG\n"
     ]
    }
   ],
   "source": [
    "example_3 = interpret (\"(al)G(al)()()G\")\n",
    "print (example_3)"
   ]
  },
  {
   "cell_type": "markdown",
   "metadata": {},
   "source": [
    "Problem 03: \n",
    "\n",
    "Check If Two String Arrays are Equivalent\n",
    "\n",
    "Given two string arrays word1 and word2, return true if the two arrays represent the same string, and false otherwise.\n",
    "\n",
    "A string is represented by an array if the array elements concatenated in order forms the string.\n",
    "\n",
    "Example 1:\n",
    "\n",
    "Input: word1 = [\"ab\", \"c\"], word2 = [\"a\", \"bc\"]\n",
    "Output: true\n",
    "Explanation:\n",
    "word1 represents string \"ab\" + \"c\" -> \"abc\"\n",
    "word2 represents string \"a\" + \"bc\" -> \"abc\"\n",
    "The strings are the same, so return true.\n",
    "\n",
    "Example 2:\n",
    "Input: word1 = [\"a\", \"cb\"], word2 = [\"ab\", \"c\"]\n",
    "Output: false\n",
    "\n",
    "Example 3:\n",
    "Input: word1 = [\"abc\", \"d\", \"defg\"], word2 = [\"abcddefg\"]\n",
    "Output: true"
   ]
  },
  {
   "cell_type": "code",
   "execution_count": 38,
   "metadata": {},
   "outputs": [],
   "source": [
    "def arrayStringsAreEqual (word1, word2):\n",
    "    \n",
    "    return \"\".join (word1) == \"\".join (word2)"
   ]
  },
  {
   "cell_type": "code",
   "execution_count": 39,
   "metadata": {},
   "outputs": [
    {
     "name": "stdout",
     "output_type": "stream",
     "text": [
      "True\n"
     ]
    }
   ],
   "source": [
    "example_1 = arrayStringsAreEqual ([\"ab\", \"c\"], [\"a\", \"bc\"])\n",
    "\n",
    "print(example_1)"
   ]
  },
  {
   "cell_type": "code",
   "execution_count": 41,
   "metadata": {},
   "outputs": [
    {
     "name": "stdout",
     "output_type": "stream",
     "text": [
      "False\n"
     ]
    }
   ],
   "source": [
    "example_2 = arrayStringsAreEqual([\"a\", \"cb\"], [\"ab\", \"c\"])\n",
    "\n",
    "print(example_2)"
   ]
  },
  {
   "cell_type": "code",
   "execution_count": 42,
   "metadata": {},
   "outputs": [
    {
     "name": "stdout",
     "output_type": "stream",
     "text": [
      "True\n"
     ]
    }
   ],
   "source": [
    "example_3 = arrayStringsAreEqual( [\"abc\", \"d\", \"defg\"], [\"abcddefg\"])\n",
    "\n",
    "print(example_3)"
   ]
  },
  {
   "cell_type": "markdown",
   "metadata": {},
   "source": [
    "HW Problem 1: \n",
    "\n",
    "Maximum Product of Three Numbers\n",
    "\n",
    "Given an integer array nums, find three numbers whose product is maximum and return the maximum product.\n",
    "\n",
    "Example 1:\n",
    "Input: nums = [1,2,3]\n",
    "Output: 6\n",
    "\n",
    "Example 2:\n",
    "Input: nums = [1,2,3,4]\n",
    "Output: 24\n",
    "\n",
    "Example 3:\n",
    "Input: nums = [-1,-2,-3]\n",
    "Output: -6"
   ]
  },
  {
   "cell_type": "code",
   "execution_count": 48,
   "metadata": {},
   "outputs": [],
   "source": [
    "def maximumProduct (nums):\n",
    "    \n",
    "    nums = sorted (nums)\n",
    "    \n",
    "    print(\"sorted nums = \", nums)\n",
    "    \n",
    "    prod_1 = nums[0]*nums[1]*nums[-1]\n",
    "    \n",
    "    print(\"prod_1 = \", prod_1)\n",
    "    \n",
    "    prod_2 = nums[-1]*nums[-2]*nums[-3]\n",
    "    \n",
    "    print(\"prod_2 = \", prod_2)\n",
    "    \n",
    "    return max (prod_1, prod_2)"
   ]
  },
  {
   "cell_type": "code",
   "execution_count": 49,
   "metadata": {
    "scrolled": false
   },
   "outputs": [
    {
     "name": "stdout",
     "output_type": "stream",
     "text": [
      "sorted nums =  [1, 2, 3]\n",
      "prod_1 =  6\n",
      "prod_2 =  6\n",
      "6\n"
     ]
    }
   ],
   "source": [
    "example_1 = maximumProduct ([1,2,3])\n",
    "\n",
    "print(example_1)"
   ]
  },
  {
   "cell_type": "code",
   "execution_count": 51,
   "metadata": {},
   "outputs": [
    {
     "name": "stdout",
     "output_type": "stream",
     "text": [
      "sorted nums =  [1, 2, 3, 4]\n",
      "prod_1 =  8\n",
      "prod_2 =  24\n",
      "24\n"
     ]
    }
   ],
   "source": [
    "example_2 = maximumProduct ([1,2,3,4])\n",
    "\n",
    "print(example_2)"
   ]
  },
  {
   "cell_type": "code",
   "execution_count": 52,
   "metadata": {},
   "outputs": [
    {
     "name": "stdout",
     "output_type": "stream",
     "text": [
      "sorted nums =  [-3, -2, -1]\n",
      "prod_1 =  -6\n",
      "prod_2 =  -6\n",
      "-6\n"
     ]
    }
   ],
   "source": [
    "example_3 = maximumProduct ( [-1,-2,-3] )\n",
    "\n",
    "print(example_3)"
   ]
  },
  {
   "cell_type": "code",
   "execution_count": 54,
   "metadata": {},
   "outputs": [
    {
     "name": "stdout",
     "output_type": "stream",
     "text": [
      "sorted nums =  [-4, -2, -1, 1, 2, 6]\n",
      "prod_1 =  48\n",
      "prod_2 =  12\n",
      "48\n"
     ]
    }
   ],
   "source": [
    "example_4 = maximumProduct ([-1,-2,-4,1,2,6])\n",
    "\n",
    "print(example_4)"
   ]
  },
  {
   "cell_type": "markdown",
   "metadata": {},
   "source": [
    "HW Problem 2: \n",
    "\n",
    "Richest Customer Wealth\n",
    "\n",
    "You are given an m x n integer grid accounts where accounts[i][j] is the amount of money the i-th customer has in the j-th bank. Return the wealth that the richest customer has.\n",
    "\n",
    "A customer's wealth is the amount of money they have in all their bank accounts. The richest customer is the customer that has the maximum wealth.\n",
    "\n",
    "Example 1:\n",
    "Input: accounts = [[1,2,3],[3,2,1]]\n",
    "Output: 6\n",
    "Explanation:\n",
    "1st customer has wealth = 1 + 2 + 3 = 6\n",
    "2nd customer has wealth = 3 + 2 + 1 = 6\n",
    "Both customers are considered the richest with a wealth of 6 each, so return 6.\n",
    "\n",
    "Example 2:\n",
    "Input: accounts = [[1,5],[7,3],[3,5]]\n",
    "Output: 10\n",
    "Explanation:\n",
    "1st customer has wealth = 6\n",
    "2nd customer has wealth = 10\n",
    "3rd customer has wealth = 8\n",
    "The 2nd customer is the richest with a wealth of 10.\n",
    "\n",
    "Example 3:\n",
    "Input: accounts = [[2,8,7],[7,1,3],[1,9,5]]\n",
    "Output: 17"
   ]
  },
  {
   "cell_type": "code",
   "execution_count": 1,
   "metadata": {},
   "outputs": [],
   "source": [
    "def maximumWealth (accounts):\n",
    "    \n",
    "    wealth = []\n",
    "    \n",
    "    for element in range(len(accounts)):\n",
    "        \n",
    "        print (accounts [element])\n",
    "        \n",
    "        wealth.append (sum(accounts [element]))\n",
    "        \n",
    "    print (\"wealth =\", wealth)\n",
    "    \n",
    "    return max (wealth)        "
   ]
  },
  {
   "cell_type": "code",
   "execution_count": 2,
   "metadata": {},
   "outputs": [
    {
     "name": "stdout",
     "output_type": "stream",
     "text": [
      "[1, 2, 3]\n",
      "[3, 2, 1]\n",
      "wealth = [6, 6]\n",
      "6\n"
     ]
    }
   ],
   "source": [
    "example_1 = maximumWealth ([[1,2,3],[3,2,1]])\n",
    "\n",
    "print(example_1)"
   ]
  },
  {
   "cell_type": "code",
   "execution_count": 3,
   "metadata": {},
   "outputs": [
    {
     "name": "stdout",
     "output_type": "stream",
     "text": [
      "[1, 5]\n",
      "[7, 3]\n",
      "[3, 5]\n",
      "wealth = [6, 10, 8]\n",
      "10\n"
     ]
    }
   ],
   "source": [
    "example_2 = maximumWealth ([[1,5],[7,3],[3,5]])\n",
    "\n",
    "print(example_2)"
   ]
  },
  {
   "cell_type": "code",
   "execution_count": 4,
   "metadata": {},
   "outputs": [
    {
     "name": "stdout",
     "output_type": "stream",
     "text": [
      "[2, 8, 7]\n",
      "[7, 1, 3]\n",
      "[1, 9, 5]\n",
      "wealth = [17, 11, 15]\n",
      "17\n"
     ]
    }
   ],
   "source": [
    "example_3 = maximumWealth([[2,8,7],[7,1,3],[1,9,5]])\n",
    "\n",
    "print(example_3)"
   ]
  },
  {
   "cell_type": "markdown",
   "metadata": {},
   "source": [
    "HW Problem 3: \n",
    "\n",
    "Shuffle the Array\n",
    "\n",
    "Given the array nums consisting of 2n elements in the form [x_1,x_2,...,x_n,y_1,y_2,...,y_n].\n",
    "\n",
    "Return the array in the form [x_1,y_1,x_2,y_2,...,x_n,y_n].\n",
    "\n",
    "Example 1:\n",
    "Input: nums = [2,5,1,3,4,7], n = 3\n",
    "Output: [2,3,5,4,1,7]\n",
    "Explanation: Since x1=2, x2=5, x3=1, y1=3, y2=4, y3=7 then the answer is [2,3,5,4,1,7].\n",
    "\n",
    "Example 2:\n",
    "Input: nums = [1,2,3,4,4,3,2,1], n = 4\n",
    "Output: [1,4,2,3,3,2,4,1]\n",
    "\n",
    "Example 3:\n",
    "Input: nums = [1,1,2,2], n = 2\n",
    "Output: [1,2,1,2]"
   ]
  },
  {
   "cell_type": "code",
   "execution_count": 9,
   "metadata": {},
   "outputs": [],
   "source": [
    "def shuffleArray (nums, n):\n",
    "    \n",
    "    first_half = nums [:n]\n",
    "    last_half = nums [n:]\n",
    "    \n",
    "    shuffle = []\n",
    "    \n",
    "    for i in range (n):\n",
    "        \n",
    "        shuffle.append (first_half[i])\n",
    "        \n",
    "        print(\"after adding first half = \", shuffle)\n",
    "        \n",
    "        shuffle.append (last_half[i])\n",
    "        \n",
    "        print(\"after adding last half = \", shuffle)\n",
    "        \n",
    "    return shuffle\n",
    "        "
   ]
  },
  {
   "cell_type": "code",
   "execution_count": 10,
   "metadata": {
    "scrolled": true
   },
   "outputs": [
    {
     "name": "stdout",
     "output_type": "stream",
     "text": [
      "after adding first half =  [2]\n",
      "after adding last half =  [2, 3]\n",
      "after adding first half =  [2, 3, 5]\n",
      "after adding last half =  [2, 3, 5, 4]\n",
      "after adding first half =  [2, 3, 5, 4, 1]\n",
      "after adding last half =  [2, 3, 5, 4, 1, 7]\n",
      "[2, 3, 5, 4, 1, 7]\n"
     ]
    }
   ],
   "source": [
    "example_1 = shuffleArray ([2,5,1,3,4,7], 3)\n",
    "\n",
    "print(example_1)"
   ]
  },
  {
   "cell_type": "code",
   "execution_count": 11,
   "metadata": {},
   "outputs": [
    {
     "name": "stdout",
     "output_type": "stream",
     "text": [
      "after adding first half =  [1]\n",
      "after adding last half =  [1, 4]\n",
      "after adding first half =  [1, 4, 2]\n",
      "after adding last half =  [1, 4, 2, 3]\n",
      "after adding first half =  [1, 4, 2, 3, 3]\n",
      "after adding last half =  [1, 4, 2, 3, 3, 2]\n",
      "after adding first half =  [1, 4, 2, 3, 3, 2, 4]\n",
      "after adding last half =  [1, 4, 2, 3, 3, 2, 4, 1]\n",
      "[1, 4, 2, 3, 3, 2, 4, 1]\n"
     ]
    }
   ],
   "source": [
    "example_2 = shuffleArray ([1,2,3,4,4,3,2,1], 4)\n",
    "\n",
    "print(example_2)"
   ]
  },
  {
   "cell_type": "code",
   "execution_count": 12,
   "metadata": {
    "scrolled": true
   },
   "outputs": [
    {
     "name": "stdout",
     "output_type": "stream",
     "text": [
      "after adding first half =  [1]\n",
      "after adding last half =  [1, 2]\n",
      "after adding first half =  [1, 2, 1]\n",
      "after adding last half =  [1, 2, 1, 2]\n",
      "[1, 2, 1, 2]\n"
     ]
    }
   ],
   "source": [
    "example_3 = shuffleArray ([1,1,2,2], 2)\n",
    "\n",
    "print(example_3)"
   ]
  },
  {
   "cell_type": "markdown",
   "metadata": {},
   "source": [
    "HW Problem 4: \n",
    "\n",
    "Valid Perfect Square\n",
    "\n",
    "Given a positive integer num, write a function which returns True if num is a perfect square else False.\n",
    "\n",
    "Example 1:\n",
    "Input: num = 16\n",
    "Output: true\n",
    "\n",
    "Example 2:\n",
    "Input: num = 14\n",
    "Output: false"
   ]
  },
  {
   "cell_type": "code",
   "execution_count": 13,
   "metadata": {},
   "outputs": [],
   "source": [
    "def isPerfectSquare (num):\n",
    "    \n",
    "    print (\"square root =\", num**0.5)\n",
    "    \n",
    "    print (\"square root (integer part only) = \", int(num**0.5))\n",
    "    \n",
    "    return num**0.5 == int(num**0.5)"
   ]
  },
  {
   "cell_type": "code",
   "execution_count": 14,
   "metadata": {},
   "outputs": [
    {
     "name": "stdout",
     "output_type": "stream",
     "text": [
      "square root = 3.7416573867739413\n",
      "square root (integer part only) =  3\n",
      "False\n"
     ]
    }
   ],
   "source": [
    "example_1 = isPerfectSquare (14)\n",
    "\n",
    "print(example_1)"
   ]
  },
  {
   "cell_type": "code",
   "execution_count": 15,
   "metadata": {},
   "outputs": [
    {
     "name": "stdout",
     "output_type": "stream",
     "text": [
      "square root = 4.0\n",
      "square root (integer part only) =  4\n",
      "True\n"
     ]
    }
   ],
   "source": [
    "example_2 = isPerfectSquare (16)\n",
    "\n",
    "print(example_2)"
   ]
  },
  {
   "cell_type": "markdown",
   "metadata": {},
   "source": [
    "Problem 4: \n",
    "\n",
    "Power of Two\n",
    "\n",
    "Given an integer n, return true if it is a power of two. Otherwise, return false.\n",
    "\n",
    "An integer n is a power of two, if there exists an integer x such that n == 2^x.\n",
    "\n",
    "Example 1:\n",
    "Input: n = 1\n",
    "Output: true\n",
    "Explanation: 2^0 = 1\n",
    "\n",
    "Example 2:\n",
    "Input: n = 16\n",
    "Output: true\n",
    "Explanation: 2^4 = 16\n",
    "\n",
    "Example 3:\n",
    "Input: n = 3\n",
    "Output: false\n",
    "\n",
    "Example 4:\n",
    "Input: n = 4\n",
    "Output: true\n",
    "\n",
    "Example 5:\n",
    "Input: n = 5\n",
    "Output: false\n",
    "\n",
    "n == 2^x\n",
    "=> log(n) = log(2^x)\n",
    "=> log(n) = x*log(2)\n",
    "=> x = log(n)/log(2)"
   ]
  },
  {
   "cell_type": "code",
   "execution_count": 10,
   "metadata": {},
   "outputs": [],
   "source": [
    "import math \n",
    "\n",
    "def powerOfTwo (n):\n",
    "    \n",
    "    x = math.log10(n)/math.log10(2)\n",
    "    \n",
    "#     print(math.log10(n))\n",
    "#     print (math.log10(2))\n",
    "    print (x)\n",
    "    print (int(x))\n",
    "    \n",
    "    \n",
    "    return n == 2 ** int (x)"
   ]
  },
  {
   "cell_type": "code",
   "execution_count": 11,
   "metadata": {},
   "outputs": [
    {
     "name": "stdout",
     "output_type": "stream",
     "text": [
      "2.0\n",
      "2\n",
      "True\n"
     ]
    }
   ],
   "source": [
    "example_1 = powerOfTwo (4)\n",
    "print (example_1)"
   ]
  },
  {
   "cell_type": "code",
   "execution_count": 12,
   "metadata": {},
   "outputs": [
    {
     "name": "stdout",
     "output_type": "stream",
     "text": [
      "2.3219280948873626\n",
      "2\n",
      "False\n"
     ]
    }
   ],
   "source": [
    "example_2 = powerOfTwo (5)\n",
    "print (example_2)"
   ]
  }
 ],
 "metadata": {
  "kernelspec": {
   "display_name": "Python 3",
   "language": "python",
   "name": "python3"
  },
  "language_info": {
   "codemirror_mode": {
    "name": "ipython",
    "version": 3
   },
   "file_extension": ".py",
   "mimetype": "text/x-python",
   "name": "python",
   "nbconvert_exporter": "python",
   "pygments_lexer": "ipython3",
   "version": "3.6.9"
  }
 },
 "nbformat": 4,
 "nbformat_minor": 2
}
